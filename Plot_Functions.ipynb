{
 "cells": [
  {
   "cell_type": "code",
   "execution_count": 17,
   "id": "fee4ecac-113c-4312-b796-8a457581a03d",
   "metadata": {
    "tags": []
   },
   "outputs": [],
   "source": [
    "import numpy as np\n",
    "import matplotlib.pyplot as plt\n",
    "import pandas as pd\n",
    "import seaborn as sns\n",
    "import warnings\n",
    "from scipy.stats import linregress"
   ]
  },
  {
   "cell_type": "code",
   "execution_count": 2,
   "id": "601549c2-e945-476c-9893-b2ddd965a551",
   "metadata": {
    "tags": []
   },
   "outputs": [],
   "source": [
    "def plot_corr_double(primary_df, secondary_df, fields):\n",
    "    correlations_1 = primary_df[fields].corr()\n",
    "    correlations_2 = secondary_df[fields].corr()\n",
    "    combined_correlations = np.zeros_like(correlations_1)\n",
    "    combined_correlations[np.triu_indices_from(combined_correlations)] = correlations_1.values[np.triu_indices_from(correlations_1)]\n",
    "    combined_correlations[np.tril_indices_from(combined_correlations, k=-1)] = correlations_2.values[np.tril_indices_from(correlations_2, k=-1)]\n",
    "    print(correlations_1, '\\n',  '\\n',correlations_2)\n",
    "\n",
    "    fig, ax = plt.subplots(figsize=(8, 6))\n",
    "    ax.plot(np.arange(len(correlations_1.columns)+1)-0.5, np.arange(len(correlations_1.index)+1)-0.5, color='black', linewidth=2)\n",
    "    im = ax.imshow(combined_correlations, cmap='viridis', vmin=0, vmax=1, interpolation='nearest')\n",
    "    cbar = fig.colorbar(im, ax=ax, label='Correlation Coefficient', ticks=np.linspace(0, 1, 11))\n",
    "    ax.set_xticks(range(len(combined_correlations)),labels = fields, rotation = 90)\n",
    "    ax.set_yticks(range(len(combined_correlations)),labels = fields, rotation = 0)\n",
    "    ax.xaxis.tick_top()\n",
    "    ax.set_xlabel('4th Grade of ESO')\n",
    "    ax.set_ylabel('6th Grade of primary')\n",
    "    ax.yaxis.set_label_position('right')\n",
    "    plt.tight_layout()"
   ]
  },
  {
   "cell_type": "code",
   "execution_count": 3,
   "id": "c1cea23e",
   "metadata": {},
   "outputs": [],
   "source": [
    "def plot_corr_single(df, fields):\n",
    "    correlations = df[fields].corr()\n",
    "    print(correlations)\n",
    "    np.fill_diagonal(correlations.values, np.nan)\n",
    "    \n",
    "    fig, ax = plt.subplots(figsize=(8, 6))\n",
    "    im = ax.imshow(correlations, cmap='viridis', vmin=0.5, vmax=0.8, interpolation='nearest')\n",
    "    cbar = fig.colorbar(im, ax=ax, label='Correlation Coefficient', ticks=np.linspace(0.5, 0.8, 11))\n",
    "    ax.set_xticks(range(len(correlations)),labels = fields, rotation = 90)\n",
    "    ax.set_yticks(range(len(correlations)),labels = fields, rotation = 0)\n",
    "    plt.tight_layout()"
   ]
  },
  {
   "cell_type": "code",
   "execution_count": 4,
   "id": "b4b68d30",
   "metadata": {},
   "outputs": [],
   "source": [
    "def plot_averages_double(primary_df,secondary_df,fields):\n",
    "    with sns.color_palette(\"viridis\"):\n",
    "        fig, ax = plt.subplots()\n",
    "        ax.scatter(np.arange(len(fields))-0.1, primary_df[fields].mean(), label = \"6th Grade of Primary\", zorder = 2)\n",
    "        ax.scatter(np.arange(len(fields))+0.1, secondary_df[fields].mean(), label = \"4th Grade of ESO\", zorder =2)\n",
    "        ax.errorbar(np.arange(len(fields))-0.1, primary_df[fields].mean(), yerr=primary_df[fields].std(), fmt='none', color = 'black', linewidth = 1, zorder = 1, capsize = 5)\n",
    "        ax.errorbar(np.arange(len(fields))+0.1, secondary_df[fields].mean(), yerr=secondary_df[fields].std(), fmt='none', color = 'black', linewidth = 1, zorder =1, capsize = 5)\n",
    "        ax.set_xticks(np.arange(len(fields)))\n",
    "        ax.set_xticklabels(fields)\n",
    "        ax.yaxis.grid(True)\n",
    "        ax.legend()\n",
    "        plt.tight_layout()\n",
    "        plt.plot()"
   ]
  },
  {
   "cell_type": "code",
   "execution_count": 5,
   "id": "1dcc3f87",
   "metadata": {},
   "outputs": [],
   "source": [
    "def plot_boxes_double(primary_df, secondary_df, fields):\n",
    "    fig, ax = plt.subplots()      \n",
    "\n",
    "    positions_primary = np.arange(1, len(fields) + 1)\n",
    "    positions_secondary = np.arange(1.25, len(fields) + 1.25)\n",
    "\n",
    "    data_to_plot = []\n",
    "    labels = []\n",
    "    for i in range(len(fields)):\n",
    "        data_to_plot.append(primary_df[fields[i]].dropna().values)\n",
    "        labels.append(f\"{fields[i]}\")\n",
    "    for i in range(len(fields)):\n",
    "        data_to_plot.append(secondary_df[fields[i]].dropna().values)\n",
    "        labels.append(f\"{''}\")\n",
    "    ax.boxplot(data_to_plot, positions=np.concatenate((positions_primary, positions_secondary)), labels=labels, widths = 0.2 )\n",
    "        \n",
    "    ax.tick_params(axis='x', which='both', bottom=False, top=False)\n",
    "    ax.set_ylabel('Values')\n",
    "    plt.tight_layout()\n",
    "    plt.show"
   ]
  },
  {
   "cell_type": "code",
   "execution_count": 6,
   "id": "f3c800d5",
   "metadata": {},
   "outputs": [],
   "source": [
    "def plot_violin_double(primary_df, secondary_df, fields):\n",
    "    warnings.filterwarnings(\"ignore\")\n",
    "    p_df = primary_df[fields] \n",
    "    p_df['Grade'] = 'primary'\n",
    "    s_df = secondary_df[fields] \n",
    "    s_df['Grade'] = 'secondary'\n",
    "    combined_data = pd.concat([p_df, s_df], axis=0)\n",
    "    melted_data = pd.melt(combined_data[:], id_vars=['Grade'], value_vars=fields, var_name='Subject', value_name='Marks')\n",
    "    sns.violinplot(x='Subject', y='Marks', hue='Grade', data=melted_data, split=True, palette='viridis', cut=1, inner='quart')\n",
    "    \n",
    "    plt.ylabel('Values')\n",
    "    plt.xlabel(None)\n",
    "\n",
    "    handles, labels = plt.gca().get_legend_handles_labels()\n",
    "    unique_labels = ['primary', 'secondary']\n",
    "    unique_handles = [h for i, h in enumerate(handles) if labels[i] in unique_labels]\n",
    "\n",
    "    plt.legend(unique_handles, unique_labels, title='Grade', loc = 3)\n",
    "    plt.tight_layout()\n",
    "    plt.ylim(0,100)\n",
    "    y = np.arange(0, 100, 10)\n",
    "    plt.yticks(y)\n",
    "    plt.grid(axis='y')\n",
    "    plt.show()"
   ]
  },
  {
   "cell_type": "code",
   "execution_count": 7,
   "id": "acbc620d",
   "metadata": {},
   "outputs": [],
   "source": [
    "def plot_corr_dif_double(primary_df, secondary_df, fields):\n",
    "    correlations_1 = primary_df[fields].corr()\n",
    "    correlations_2 = secondary_df[fields].corr()\n",
    "    for col in correlations_1:\n",
    "        correlations_1[col] = correlations_1[col] - correlations_2[col]\n",
    "        correlations_2[col] = -correlations_1[col]\n",
    "    combined_correlations = np.zeros_like(correlations_1)\n",
    "    combined_correlations[np.triu_indices_from(combined_correlations)] = correlations_1.values[np.triu_indices_from(correlations_1)]\n",
    "    combined_correlations[np.tril_indices_from(combined_correlations, k=-1)] = correlations_2.values[np.tril_indices_from(correlations_2, k=-1)]\n",
    "    print(correlations_1, '\\n',  '\\n',correlations_2)\n",
    "    np.fill_diagonal(combined_correlations, np.nan)\n",
    "\n",
    "    fig, ax = plt.subplots(figsize=(8, 6))\n",
    "\n",
    "    ax.plot(np.arange(len(correlations_1.columns)+1)-0.5, np.arange(len(correlations_1.index)+1)-0.5, color='black', linewidth=2)\n",
    "    im = ax.imshow(combined_correlations, cmap='viridis', vmin=-0.2, vmax=0.2, interpolation='nearest')\n",
    "    cbar = fig.colorbar(im, ax=ax, label='Correlation Coefficient difference', ticks=np.linspace(-0.2, 0.2, 11))\n",
    "    ax.set_xticks(range(len(combined_correlations)),labels = fields, rotation = 90)\n",
    "    ax.set_yticks(range(len(combined_correlations)),labels = fields, rotation = 0)\n",
    "    ax.xaxis.tick_top()\n",
    "    ax.set_xlabel('ESO-Primary')\n",
    "    ax.set_ylabel('Primary-Eso')\n",
    "    ax.yaxis.set_label_position('right')\n",
    "    plt.tight_layout()"
   ]
  },
  {
   "cell_type": "code",
   "execution_count": 18,
   "id": "2e1d8abe",
   "metadata": {},
   "outputs": [],
   "source": [
    "def plot_scatter_years(df, fields, years):\n",
    "    with sns.color_palette(\"viridis\"):\n",
    "        grouped = df.groupby('ANY')\n",
    "        correlation = np.zeros(len(years))\n",
    "        for i in range(len(fields)):\n",
    "            for j in range(i + 1, len(fields)):\n",
    "                field1 = fields[i]\n",
    "                field2 = fields[j]\n",
    "                for k in range(len(years)):\n",
    "                    year_data = grouped.get_group(years[k])\n",
    "                    correlation[k] = year_data[[field1, field2]].corr().iloc[0, 1] \n",
    "                plt.scatter(years, correlation, label=str(field1)+'/'+str(field2))\n",
    "                slope, intercept, _, _, _ = linregress(years, correlation)\n",
    "                regression_line = slope * years + intercept\n",
    "                plt.plot(years, regression_line, linestyle='--')\n",
    "\n",
    "        plt.legend(bbox_to_anchor=(1.05, 1), loc='upper left')"
   ]
  }
 ],
 "metadata": {
  "kernelspec": {
   "display_name": "AVDM",
   "language": "python",
   "name": "avdm"
  },
  "language_info": {
   "codemirror_mode": {
    "name": "ipython",
    "version": 3
   },
   "file_extension": ".py",
   "mimetype": "text/x-python",
   "name": "python",
   "nbconvert_exporter": "python",
   "pygments_lexer": "ipython3",
   "version": "3.11.5"
  }
 },
 "nbformat": 4,
 "nbformat_minor": 5
}
