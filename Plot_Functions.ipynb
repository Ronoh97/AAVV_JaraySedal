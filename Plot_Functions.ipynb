{
 "cells": [
  {
   "cell_type": "code",
   "execution_count": 1,
   "id": "fee4ecac-113c-4312-b796-8a457581a03d",
   "metadata": {
    "tags": []
   },
   "outputs": [],
   "source": [
    "import numpy as np\n",
    "import matplotlib.pyplot as plt\n",
    "import pandas as pd\n",
    "import seaborn as sns\n",
    "import warnings"
   ]
  },
  {
   "cell_type": "code",
   "execution_count": 25,
   "id": "601549c2-e945-476c-9893-b2ddd965a551",
   "metadata": {
    "tags": []
   },
   "outputs": [],
   "source": [
    "def plot_corr_double(primary_df, secondary_df, fields_1,fields_2, title):\n",
    "    correlations_1 = primary_df[fields_1].corr()\n",
    "    correlations_2 = secondary_df[fields_2].corr()\n",
    "    combined_correlations = np.zeros_like(correlations_1)\n",
    "    combined_correlations[np.triu_indices_from(combined_correlations)] = correlations_1.values[np.triu_indices_from(correlations_1)]\n",
    "    combined_correlations[np.tril_indices_from(combined_correlations, k=-1)] = correlations_2.values[np.tril_indices_from(correlations_2, k=-1)]\n",
    "    print(correlations_1, '\\n',  '\\n',correlations_2)\n",
    "\n",
    "    fig, ax = plt.subplots(figsize=(8, 6))\n",
    "\n",
    "    ax.plot(np.arange(len(correlations_1.columns)+1)-0.5, np.arange(len(correlations_1.index)+1)-0.5, color='black', linewidth=2)\n",
    "    im = ax.imshow(combined_correlations, cmap='viridis', vmin=0, vmax=1, interpolation='nearest')\n",
    "    cbar = fig.colorbar(im, ax=ax, label='Correlation Coefficient', ticks=np.linspace(0, 1, 11))\n",
    "    ax.set_title(title)\n",
    "    ax.set_xticks(range(len(combined_correlations)),labels = fields_2, rotation = 90)\n",
    "    ax.set_yticks(range(len(combined_correlations)),labels = fields_2, rotation = 0)\n",
    "    ax.xaxis.tick_top()\n",
    "    ax.set_xlabel('4th Grade of ESO')\n",
    "    ax.set_ylabel('6th Grade of primary')\n",
    "    ax.yaxis.set_label_position('right')\n",
    "    plt.tight_layout()"
   ]
  },
  {
   "cell_type": "code",
   "execution_count": 3,
   "id": "c1cea23e",
   "metadata": {},
   "outputs": [],
   "source": [
    "def plot_corr_single(df, fields, title):\n",
    "    correlations = df[fields].corr()\n",
    "    print(correlations)\n",
    "\n",
    "    fig, ax = plt.subplots(figsize=(2, 1))\n",
    "    im = ax.imshow(combined_correlations, cmap='cividis', vmin=0, vmax=1, interpolation='nearest')\n",
    "    cbar = fig.colorbar(im, ax=ax, label='Correlation Coefficient', ticks=np.linspace(0, 1, 11))\n",
    "    ax.set_title(title)\n",
    "    ax.set_xticks(range(len(correlations)),labels = fields, rotation = 90)\n",
    "    ax.set_yticks(range(len(correlations)),labels = fields, rotation = 0)\n",
    "    plt.tight_layout()"
   ]
  },
  {
   "cell_type": "code",
   "execution_count": 4,
   "id": "b4b68d30",
   "metadata": {},
   "outputs": [],
   "source": [
    "def plot_averages_double(primary_df,secondary_df,fields_1,fields_2,title):\n",
    "    fig, ax = plt.subplots()\n",
    "    ax.set_title(title)\n",
    "    ax.scatter(np.arange(len(fields_2))-0.1, primary_df[fields_1].mean(), label = \"6th Grade of Primary\", zorder = 2)\n",
    "    ax.scatter(np.arange(len(fields_2))+0.1, secondary_df[fields_2].mean(), label = \"4th Grade of ESO\", zorder =2)\n",
    "    ax.errorbar(np.arange(len(fields_2))-0.1, primary_df[fields_1].mean(), yerr=primary_df[fields_1].std(), fmt='none', color = 'black', linewidth = 1, zorder = 1, capsize = 5)\n",
    "    ax.errorbar(np.arange(len(fields_2))+0.1, secondary_df[fields_2].mean(), yerr=secondary_df[fields_2].std(), fmt='none', color = 'black', linewidth = 1, zorder =1, capsize = 5)\n",
    "    ax.set_xticks(np.arange(len(fields_2)))\n",
    "    ax.set_xticklabels(fields_2)\n",
    "    ax.yaxis.grid(True)\n",
    "    ax.legend()\n",
    "    plt.tight_layout()\n",
    "    plt.plot()"
   ]
  },
  {
   "cell_type": "code",
   "execution_count": 24,
   "id": "1dcc3f87",
   "metadata": {},
   "outputs": [],
   "source": [
    "def plot_boxes_double(primary_df, secondary_df, fields_1, fields_2, title):\n",
    "    fig, ax = plt.subplots()\n",
    "    ax.set_title(title)\n",
    "        \n",
    "    num_fields = min(len(fields_1), len(fields_2)) \n",
    "\n",
    "    positions_primary = np.arange(1, num_fields + 1)\n",
    "    positions_secondary = np.arange(1.25, num_fields + 1.25)\n",
    "\n",
    "    data_to_plot = []\n",
    "    labels = []\n",
    "    for i in range(num_fields):\n",
    "        data_to_plot.append(primary_df[fields_1[i]].dropna().values)\n",
    "        labels.append(f\"{fields_1[i]}\")\n",
    "    for i in range(num_fields):\n",
    "        data_to_plot.append(secondary_df[fields_2[i]].dropna().values)\n",
    "        labels.append(f\"{''}\")\n",
    "    ax.boxplot(data_to_plot, positions=np.concatenate((positions_primary, positions_secondary)), labels=labels, widths = 0.2 )\n",
    "        \n",
    "    ax.tick_params(axis='x', which='both', bottom=False, top=False)\n",
    "    ax.set_ylabel('Values')\n",
    "    ax.set_yaxis.grid(True)\n",
    "    plt.tight_layout()\n",
    "    plt.show"
   ]
  },
  {
   "cell_type": "code",
   "execution_count": 21,
   "id": "f3c800d5",
   "metadata": {},
   "outputs": [],
   "source": [
    "def plot_violin_double(primary_df, secondary_df, fields_1, fields_2, title):\n",
    "    warnings.filterwarnings(\"ignore\")\n",
    "    p_df = primary_df[fields_1] \n",
    "    p_df['Grade'] = 'primary'\n",
    "    s_df = secondary_df[fields_2] \n",
    "    s_df['Grade'] = 'secondary'\n",
    "    p_df.rename(columns={'PMED': 'PCIEN'}, inplace=True)\n",
    "    combined_data = pd.concat([p_df, s_df], axis=0)\n",
    "    melted_data = pd.melt(combined_data[:], id_vars=['Grade'], value_vars=fields_2, var_name='Subject', value_name='Marks')\n",
    "    sns.violinplot(x='Subject', y='Marks', hue='Grade', data=melted_data, split=True, palette='viridis', cut=1, inner='quart')\n",
    "    \n",
    "    plt.ylabel('Values')\n",
    "    plt.xlabel(None)\n",
    "\n",
    "    handles, labels = plt.gca().get_legend_handles_labels()\n",
    "    unique_labels = ['primary', 'secondary']\n",
    "    unique_handles = [h for i, h in enumerate(handles) if labels[i] in unique_labels]\n",
    "\n",
    "    plt.legend(unique_handles, unique_labels, title='Grade', loc = 3)\n",
    "    plt.suptitle(title, y=1.02)\n",
    "    plt.tight_layout()\n",
    "    plt.ylim(0,100)\n",
    "    y = np.arange(0, 100, 10)\n",
    "    plt.yticks(y)\n",
    "    plt.grid(axis='y')\n",
    "    plt.show()"
   ]
  },
  {
   "cell_type": "code",
   "execution_count": 8,
   "id": "acbc620d",
   "metadata": {},
   "outputs": [],
   "source": [
    "def plot_scatter(primary_df,secondary_df,fields_1,fields_2):\n",
    "    var = primary_df[fields_1].var\n",
    "    mean = primary_df[fields_].mean\n",
    "    plt.scatter(var, mean, color = 'blue')\n",
    "    \n",
    "    plt.scatter(secondary_df[field].var,primary_df[field].mean)\n",
    "    "
   ]
  },
  {
   "cell_type": "markdown",
   "id": "ca56db54",
   "metadata": {},
   "source": [
    "primary_df = pd.read_csv('Data\\Avaluaci__de_sis__d_educaci__prim_ria.csv')\n",
    "secondary_df = pd.read_csv('Data\\Avaluaci__de_quart_d_Educaci__Secund_ria_Obligat_ria_20231112.csv')\n",
    "\n",
    "primary_df = primary_df.drop_duplicates()\n",
    "secondary_df = secondary_df.drop_duplicates()\n",
    "replace_fields = ['PFRAN','PFRAN_CO','PFRAN_CL','PFRAN_EE']\n",
    "secondary_df[replace_fields]= secondary_df[replace_fields].replace(1,np.nan)"
   ]
  },
  {
   "cell_type": "markdown",
   "id": "09b89539",
   "metadata": {},
   "source": [
    "fields_1 = list(['PCAT','PMED'])\n",
    "fields_2 = list(['PCAT','PCIEN'])\n",
    "\n",
    "title = 'Títol'\n",
    "plot_corr_double(primary_df, secondary_df, fields_1, fields_2, title)"
   ]
  },
  {
   "cell_type": "code",
   "execution_count": null,
   "id": "d159d7c2",
   "metadata": {},
   "outputs": [],
   "source": []
  },
  {
   "cell_type": "code",
   "execution_count": null,
   "id": "311c2584",
   "metadata": {},
   "outputs": [],
   "source": []
  },
  {
   "cell_type": "code",
   "execution_count": null,
   "id": "b9cb98b5",
   "metadata": {},
   "outputs": [],
   "source": []
  }
 ],
 "metadata": {
  "kernelspec": {
   "display_name": "AVDM",
   "language": "python",
   "name": "avdm"
  },
  "language_info": {
   "codemirror_mode": {
    "name": "ipython",
    "version": 3
   },
   "file_extension": ".py",
   "mimetype": "text/x-python",
   "name": "python",
   "nbconvert_exporter": "python",
   "pygments_lexer": "ipython3",
   "version": "3.11.5"
  }
 },
 "nbformat": 4,
 "nbformat_minor": 5
}
