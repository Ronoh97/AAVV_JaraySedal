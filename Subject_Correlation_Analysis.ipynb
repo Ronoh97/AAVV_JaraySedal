{
 "cells": [
  {
   "cell_type": "code",
   "execution_count": 1,
   "id": "fee4ecac-113c-4312-b796-8a457581a03d",
   "metadata": {
    "tags": []
   },
   "outputs": [],
   "source": [
    "import numpy as np\n",
    "import matplotlib.pyplot as plt\n",
    "import pandas as pd\n",
    "import seaborn as sns\n",
    "\n",
    "%matplotlib inline\n",
    "%config InlineBackend.figure_format = 'retina'  # For higher resolution figures (optional)"
   ]
  },
  {
   "cell_type": "code",
   "execution_count": 2,
   "id": "77211e48-1efd-4f3d-9931-f8cec94da687",
   "metadata": {
    "tags": []
   },
   "outputs": [],
   "source": [
    "primary_df = pd.read_csv('Data\\Avaluaci__de_sis__d_educaci__prim_ria.csv')\n",
    "primary_df = primary_df.drop_duplicates()\n",
    "secondary_df = pd.read_csv('Data\\Avaluaci__de_quart_d_Educaci__Secund_ria_Obligat_ria_20231112.csv')\n",
    "secondary_df = secondary_df.drop_duplicates()"
   ]
  },
  {
   "cell_type": "code",
   "execution_count": 4,
   "id": "601549c2-e945-476c-9893-b2ddd965a551",
   "metadata": {
    "tags": []
   },
   "outputs": [],
   "source": [
    "def plot_corr_double(primary_df, secondary_df, fields_1,fields_2, title):\n",
    "    correlations_1 = primary_df[fields_1].corr()\n",
    "    correlations_2 = secondary_df[fields_2].corr()\n",
    "    combined_correlations = np.zeros_like(correlations_1)\n",
    "    combined_correlations[np.triu_indices_from(combined_correlations)] = correlations_1.values[np.triu_indices_from(correlations_1)]\n",
    "    combined_correlations[np.tril_indices_from(combined_correlations, k=-1)] = correlations_2.values[np.tril_indices_from(correlations_2, k=-1)]\n",
    "    print(correlations_1, '\\n',  '\\n',correlations_2)\n",
    "\n",
    "    fig, ax = plt.subplots(figsize=(8, 6))\n",
    "\n",
    "    ax.plot(np.arange(len(correlations_1.columns)+1)-0.5, np.arange(len(correlations_1.index)+1)-0.5, color='black', linewidth=2)\n",
    "    im = ax.imshow(combined_correlations, cmap='viridis', vmin=0, vmax=1, interpolation='nearest')\n",
    "    cbar = fig.colorbar(im, ax=ax, label='Correlation Coefficient', ticks=np.linspace(0, 1, 11))\n",
    "    ax.set_title(title)\n",
    "    ax.set_xticks(range(len(combined_correlations)),labels = fields_2, rotation = 90)\n",
    "    ax.set_yticks(range(len(combined_correlations)),labels = fields_2, rotation = 0)\n",
    "    ax.xaxis.tick_top()\n",
    "    ax.set_xlabel('4th Grade of ESO')\n",
    "    ax.set_ylabel('6th Grade of primary')\n",
    "    ax.yaxis.set_label_position('right')\n",
    "    plt.tight_layout()"
   ]
  },
  {
   "cell_type": "code",
   "execution_count": 5,
   "id": "c1cea23e",
   "metadata": {},
   "outputs": [],
   "source": [
    "def plot_corr_single(df, fields, title):\n",
    "    correlations = df[fields].corr()\n",
    "    print(correlations)\n",
    "\n",
    "    fig, ax = plt.subplots(figsize=(2, 1))\n",
    "    im = ax.imshow(combined_correlations, cmap='cividis', vmin=0, vmax=1, interpolation='nearest')\n",
    "    cbar = fig.colorbar(im, ax=ax, label='Correlation Coefficient', ticks=np.linspace(0, 1, 11))\n",
    "    ax.set_title(title)\n",
    "    ax.set_xticks(range(len(correlations)),labels = fields, rotation = 90)\n",
    "    ax.set_yticks(range(len(correlations)),labels = fields, rotation = 0)\n",
    "    plt.tight_layout()"
   ]
  },
  {
   "cell_type": "code",
   "execution_count": 6,
   "id": "b4b68d30",
   "metadata": {},
   "outputs": [],
   "source": [
    "def plot_averages_double(primary_df,secondary_df,fields_1,fields_2,title):\n",
    "    with plt.style.context((\"tableau-colorblind10\",)):\n",
    "        fig, ax = plt.subplots()\n",
    "        ax.set_title(title)\n",
    "        ax.scatter(np.arange(len(fields_2))-0.1, primary_df[fields_1].mean(), label = \"6th Grade of Primary\", zorder = 2)\n",
    "        ax.scatter(np.arange(len(fields_2))+0.1, secondary_df[fields_2].mean(), label = \"4th Grade of ESO\", zorder =2)\n",
    "        ax.errorbar(np.arange(len(fields_2))-0.1, primary_df[fields_1].mean(), yerr=primary_df[fields_1].std(), fmt='none', color = 'black', linewidth = 1, zorder = 1, capsize = 5)\n",
    "        ax.errorbar(np.arange(len(fields_2))+0.1, secondary_df[fields_2].mean(), yerr=secondary_df[fields_2].std(), fmt='none', color = 'black', linewidth = 1, zorder =1, capsize = 5)\n",
    "        ax.set_xticks(np.arange(len(fields_2)))\n",
    "        ax.set_xticklabels(fields_2)\n",
    "        ax.yaxis.grid(True)\n",
    "        ax.legend()\n",
    "        plt.tight_layout()"
   ]
  },
  {
   "cell_type": "code",
   "execution_count": 14,
   "id": "fd0db0d2",
   "metadata": {},
   "outputs": [],
   "source": [
    "def plot_boxes_double(primary_df, secondary_df, fields_1, fields_2, title):\n",
    "    with plt.style.context((\"tableau-colorblind10\",)):\n",
    "        fig, ax = plt.subplots()\n",
    "        ax.set_title(title)\n",
    "        \n",
    "        num_fields = min(len(fields_1), len(fields_2))  # Determine the number of fields to plot\n",
    "        \n",
    "        # Calculate positions for each set of fields\n",
    "        positions_primary = np.arange(1, num_fields + 1)\n",
    "        positions_secondary = np.arange(1.25, num_fields + 1.25)\n",
    "        \n",
    "        # Combine data for boxplot\n",
    "        data_to_plot = []\n",
    "        labels = []\n",
    "        \n",
    "        # Add data and labels for primary_df fields\n",
    "        for i in range(num_fields):\n",
    "            data_to_plot.append(primary_df[fields_1[i]].dropna().values)\n",
    "            labels.append(f\"{fields_1[i]}\")\n",
    "        \n",
    "        # Add data and labels for secondary_df fields\n",
    "        for i in range(num_fields):\n",
    "            data_to_plot.append(secondary_df[fields_2[i]].dropna().values)\n",
    "            labels.append(f\"{''}\")\n",
    "            \n",
    "        \n",
    "        # Create boxplots for both datasets\n",
    "        ax.boxplot(data_to_plot, positions=np.concatenate((positions_primary, positions_secondary)), labels=labels, widths = 0.2 )\n",
    "        \n",
    "        ax.tick_params(axis='x', which='both', bottom=False, top=False)\n",
    "        ax.set_ylabel('Values')\n",
    "        ax.yaxis.grid(True)\n",
    "        plt.tight_layout()"
   ]
  },
  {
   "cell_type": "code",
   "execution_count": 39,
   "id": "733bcbd2",
   "metadata": {},
   "outputs": [],
   "source": [
    "def plot_violin_double(primary_df, secondary_df, fields_1, fields_2, title):\n",
    "    # Set the style and create the violin plot with different colors for primary and secondary\n",
    "    \n",
    "    p_df = primary_df[fields_1] \n",
    "    p_df['Grade'] = 'primary'\n",
    "    s_df = secondary_df[fields_2] \n",
    "    s_df['Grade'] = 'secondary'\n",
    "    p_df.rename(columns={'PMED': 'PCIEN'}, inplace=True)\n",
    "    combined_data = pd.concat([p_df, s_df], axis=0)\n",
    "    melted_data = pd.melt(combined_data[:], id_vars=['Grade'], value_vars=fields_2, var_name='Subject', value_name='Marks')\n",
    "    \n",
    "    for field in fields_2:\n",
    "        sns.violinplot(x='Subject', y='Marks', hue='Grade', data=melted_data, split=True, palette='viridis', cut=1, inner='quart')\n",
    "        break  # Break after the first iteration to avoid duplicating the same plot\n",
    "    \n",
    "    plt.ylabel('Values')\n",
    "    plt.xlabel(None)  # Remove x-axis label\n",
    "\n",
    "    handles, labels = plt.gca().get_legend_handles_labels()  # Get current handles and labels\n",
    "    unique_labels = ['primary', 'secondary']\n",
    "    unique_handles = [h for i, h in enumerate(handles) if labels[i] in unique_labels]  # Filter unique handles\n",
    "\n",
    "    plt.legend(unique_handles, unique_labels, title='Grade', loc = 3)  # Use unique handles and labels for legend\n",
    "    plt.suptitle(title, y=1.02)  # Add title for the entire plot\n",
    "    plt.tight_layout()\n",
    "    plt.show()"
   ]
  },
  {
   "cell_type": "code",
   "execution_count": 103,
   "id": "c495bd79",
   "metadata": {},
   "outputs": [],
   "source": [
    "def plot_scatter(primary_df,secondary_df,fields_1,fields_2):\n",
    "    plt.scatter(primary_df[fields_1].var(), primary_df[fields_1].mean())\n",
    "    plt.scatter(secondary_df[fields_2].var(), secondary_df[fields_2].mean())\n",
    "    "
   ]
  },
  {
   "cell_type": "code",
   "execution_count": 104,
   "id": "7e9a4438",
   "metadata": {},
   "outputs": [
    {
     "data": {
      "image/png": "[encoded data removed]",
      "text/plain": [
       "<Figure size 640x480 with 1 Axes>"
      ]
     },
     "metadata": {
      "image/png": {
       "height": 413,
       "width": 549
      }
     },
     "output_type": "display_data"
    }
   ],
   "source": [
    "fields_1 = ['PCAT','PCAST','PANG','PFRAN','PMAT','PMED']\n",
    "fields_2 = ['PCAT','PCAST','PANG','PFRAN','PMAT','PCIEN']\n",
    "plot_scatter(primary_df,secondary_df,fields_1,fields_2)"
   ]
  },
  {
   "cell_type": "code",
   "execution_count": null,
   "id": "4fbf6635",
   "metadata": {},
   "outputs": [],
   "source": [
    "plot_averages_double(primary_df,secondary_df,fields_1,fields_2,title):"
   ]
  },
  {
   "cell_type": "code",
   "execution_count": null,
   "id": "73961b21",
   "metadata": {},
   "outputs": [],
   "source": []
  },
  {
   "cell_type": "code",
   "execution_count": null,
   "id": "76242b30",
   "metadata": {},
   "outputs": [],
   "source": []
  }
 ],
 "metadata": {
  "kernelspec": {
   "display_name": "AVDM",
   "language": "python",
   "name": "avdm"
  },
  "language_info": {
   "codemirror_mode": {
    "name": "ipython",
    "version": 3
   },
   "file_extension": ".py",
   "mimetype": "text/x-python",
   "name": "python",
   "nbconvert_exporter": "python",
   "pygments_lexer": "ipython3",
   "version": "3.11.5"
  }
 },
 "nbformat": 4,
 "nbformat_minor": 5
}
